{
  "nbformat": 4,
  "nbformat_minor": 0,
  "metadata": {
    "colab": {
      "provenance": [],
      "toc_visible": true,
      "authorship_tag": "ABX9TyM6qXdOeHZWG/JgJPKp0bWl",
      "include_colab_link": true
    },
    "kernelspec": {
      "name": "python3",
      "display_name": "Python 3"
    },
    "language_info": {
      "name": "python"
    }
  },
  "cells": [
    {
      "cell_type": "markdown",
      "metadata": {
        "id": "view-in-github",
        "colab_type": "text"
      },
      "source": [
        "<a href=\"https://colab.research.google.com/github/gamalgazziro/PythonDesde0/blob/main/Proyecto2.ipynb\" target=\"_parent\"><img src=\"https://colab.research.google.com/assets/colab-badge.svg\" alt=\"Open In Colab\"/></a>"
      ]
    },
    {
      "cell_type": "markdown",
      "source": [
        "Desde variables y tipos de datos hasta Programación Orientada a Objetos, hemos aprendido a trabajar y entender Python, como actividad final, haremos un juego (por consola) del estilo RPG, donde tienen que utilizar todo lo aprendido.\n",
        "\n",
        "El juego debe tener las siguientes características:\n",
        "\n",
        "1. **Clases de Personajes:**\n",
        "    - Guerrero\n",
        "    - Mago\n",
        "    - Arquero\n",
        "    - Asesino\n",
        "    \n",
        "    Estas clases deben heredar de una clase padre llamada **Personaje**\n",
        "2. **Atributos de Personaje:**\n",
        "    - Nombre\n",
        "    - Vida\n",
        "    - Ataque\n",
        "    - Defensa\n",
        "    - Inteligencia\n",
        "    - Agilidad\n",
        "    - Fuerza\n",
        "    \n",
        "    Pueden incluir nuevos atributos de ser necesario.\n",
        "    \n",
        "3. **Métodos de Ataque:**\n",
        "    - El juego debe contener al menos 2 armas exclusivas para cada clase.\n",
        "    - Implementa un método de ataque para cada clase que calcule el daño infligido al enemigo, teniendo en cuenta la defensa del enemigo, y los atributos propios del personaje, es decir:\n",
        "        - Guerrero (influye su fuerza y su ataque base + ataque del arma)\n",
        "        - Mago (influye su inteligencia y su ataque base + ataque del arma)\n",
        "        - Arquero (influye su agilidad y su ataque base + ataque del arma)\n",
        "        - Asesino (influye su agilidad e inteligencia, y su ataque base + ataque del arma)\n",
        "    - Los ataques deberán ser controlados mediante un sistema de turnos, en el cual el personaje con mayor agilidad será el primero en atacar.\n",
        "    - Cualquier mecánica adicional es bienvenida.\n",
        "4. **Enemigos:**\n",
        "    - Crea cuatro tipos de enemigos correspondientes a las clases de personajes, pero con un nombre diferente. Uno de los enemigos debe tener la capacidad de volar (pueden utilizar herencia múltiple para esto), lo cual le da la ventaja de esquivar algunos ataques.\n",
        "5. **Mecánica de Juego:**\n",
        "    - El jugador debe seleccionar su clase y empieza el juego, debe iniciar con estadísticas base.\n",
        "    - Cada partida tendrá una duración establecida por ustedes, deben producirse al menos 4 encuentros"
      ],
      "metadata": {
        "id": "gE33BlR1RRmc"
      }
    },
    {
      "cell_type": "code",
      "execution_count": null,
      "metadata": {
        "id": "o7wav-O1REZl"
      },
      "outputs": [],
      "source": [
        "import random #IMPORTANTE!!!"
      ]
    },
    {
      "cell_type": "markdown",
      "source": [
        "Creamos una clase base Personaje"
      ],
      "metadata": {
        "id": "UPH7ELIoWIZI"
      }
    },
    {
      "cell_type": "code",
      "source": [
        "class Personaje:\n",
        "  def __init__ (self,nombre,vida,ataque,defensa,inteligencia,agilidad,fuerza):\n",
        "    self.nombre= nombre\n",
        "    self.vida= vida\n",
        "    self.ataque= ataque\n",
        "    self.defensa= defensa\n",
        "    self.inteligencia= inteligencia\n",
        "    self.agilidad= agilidad\n",
        "    self.fuerza= fuerza\n",
        "\n",
        "  def atacar(self,objetivo):\n",
        "    dagme= max(0,self.ataque - objetivo.defensa)\n",
        "    self.vida -= dagme\n",
        "    return dagme\n",
        "\n",
        "  def usar_habilidad_1(self, objetivo):\n",
        "    dagme = max(0,self.ataque - objetivo.defensa)\n",
        "    self.vida -= dagme\n",
        "    return dagme\n",
        "\n",
        "  def usar_habilidad_2(self, objetivo):\n",
        "    dagme = max(0,self.ataque - objetivo.defensa)\n",
        "    self.vida -= dagme\n",
        "    return dagme"
      ],
      "metadata": {
        "id": "C-RR_3zNSu5G"
      },
      "execution_count": null,
      "outputs": []
    },
    {
      "cell_type": "markdown",
      "source": [
        "Creamos los personajes que heredan de la clase Persona"
      ],
      "metadata": {
        "id": "_VUZW7tyWfHo"
      }
    },
    {
      "cell_type": "code",
      "source": [
        "class Guerrero(Personaje):\n",
        "  def __init__(self, nombre,habilidad_1 ,habilidad_2,fuerza):\n",
        "    super().__init__(nombre, vida=100, ataque=30, defensa=20,inteligencia= 12)\n",
        "\n",
        "class Mago(Personaje):\n",
        "  def __init__(self, nombre,habilidad_1 ,habilidad_2,fuerza):\n",
        "    super().__init__(nombre, vida=70, ataque=40, defensa=10,inteligencia=30)\n",
        "\n",
        "class Arquero(Personaje):\n",
        "  def __init__(self, nombre,habilidad_1 ,habilidad_2,fuerza,inteligencia=15):\n",
        "    super().__init__(nombre, vida=90, ataque=30, defensa=12)\n",
        "\n",
        "class Asesino(Personaje):\n",
        "  def __init__(self, nombre,habilidad_1 ,habilidad_2,fuerza,inteligencia=18):\n",
        "    super().__init__(nombre, vida=75, ataque=25, defensa=15)\n",
        "\n",
        "class Sanador(Personaje):\n",
        "  def __init__(self, nombre,habilidad_1 ,habilidad_2,fuerza):\n",
        "    super().__init__(nombre, vida=130, ataque=20, defensa=16,inteligencia=20)\n",
        "\n",
        "class Druida(Personaje):\n",
        "  def __init__(self, nombre,habilidad_1 ,habilidad_2,fuerza):\n",
        "    super().__init__(nombre, vida=90, ataque=25, defensa=18,inteligencia=24)\n",
        "\n",
        "def selec_clase():\n",
        "    print(\"Selecciona tu clase:\")\n",
        "    print(\"1. Guerrero\")\n",
        "    print(\"2. Mago\")\n",
        "    print(\"3. Arquero\")\n",
        "    print(\"4. Asesino\")\n",
        "    print(\"5. Sanador\")\n",
        "    print(\"6. Druida\")\n",
        "\n",
        "    opcion = input(\"Ingrese el número de la clase: \")\n",
        "    clases = {\n",
        "        \"1\": Guerrero,\n",
        "        \"2\": Mago,\n",
        "        \"3\": Arquero,\n",
        "        \"4\": Asesino,\n",
        "        \"5\": Sanador,\n",
        "        \"6\": Druida\n",
        "    }\n",
        "    return clases[opcion]\n",
        "\n",
        "def main():\n",
        "  print(\"¡Bienvenido al juego RPG!\")\n",
        "  # Crear al jugador\n",
        "  nombre_jugador = input(\"Ingrese su nombre: \")\n",
        "  clase_jugador = selec_clase()\n",
        "  jugador = clase_jugador(nombre_jugador)\n",
        "\n",
        "  # Crear un enemigo aleatorio\n",
        "  clases_enemigo = [Guerrero, Mago, Arquero, Asesino, Sanador, Druida]\n",
        "  clase_enemigo = random.choice(clases_enemigo)\n",
        "  enemigo = clase_enemigo(\"Enemigo\")\n",
        "\n",
        "  print(f\"\\n{jugador.nombre}, eres un {jugador.__class__.__name__}, y te enfrentas a un {enemigo.__class__.__name__} llamado {enemigo.nombre}.\\n\")\n",
        "\n",
        "  while jugador.vida > 0 and enemigo.vida > 0:\n",
        "    print(f\"{jugador.nombre}: Salud = {jugador.salud}, Ataque = {jugador.ataque}, Defensa = {jugador.defensa}\")\n",
        "    print(f\"{enemigo.nombre}: Salud = {enemigo.salud}, Ataque = {enemigo.ataque}, Defensa = {enemigo.defensa}\")\n",
        "\n",
        "    accion = input(\"Que quieres hacer? (atacar/escapar): \").lower()\n",
        "\n",
        "    if accion == \"atacar\":\n",
        "      dagme_jugador = jugador.atacar(enemigo)\n",
        "      dagme_enemigo = enemigo.atacar(jugador)\n",
        "      print(f\"Atacaste a {enemigo.nombre} y le quitaste {dagme_jugador} de salud.\")\n",
        "      print(f\"{enemigo.nombre} contraatacó y te quitó {dagme_enemigo} de salud.\")\n",
        "\n",
        "    elif accion == \"escapar\":\n",
        "      print(\"Escapaste del combate. ¡Hasta la próxima!\")\n",
        "      break\n",
        "\n",
        "    else:\n",
        "      print(\"Accion no valida, Elige entre atacar o escapar\")\n",
        "\n",
        "    if jugador.vida <= 0:\n",
        "        print(\"¡Has sido derrotado! Game Over.\")\n",
        "    elif enemigo.vida <= 0:\n",
        "        print(f\"¡Has derrotado a {enemigo.nombre}! ¡Ganaste el juego!\")\n",
        "\n",
        "if __name__ == \"__main__\":\n",
        "    main()\n",
        "\n",
        "\n"
      ],
      "metadata": {
        "id": "_HzcVUKgWexj",
        "colab": {
          "base_uri": "https://localhost:8080/",
          "height": 559
        },
        "outputId": "b5d8cda0-efb8-4220-d451-64bac68b8822"
      },
      "execution_count": null,
      "outputs": [
        {
          "name": "stdout",
          "output_type": "stream",
          "text": [
            "¡Bienvenido al juego RPG!\n",
            "Ingrese su nombre: DGIO\n",
            "Selecciona tu clase:\n",
            "1. Guerrero\n",
            "2. Mago\n",
            "3. Arquero\n",
            "4. Asesino\n",
            "5. Sanador\n",
            "6. Druida\n",
            "Ingrese el número de la clase: 2\n"
          ]
        },
        {
          "output_type": "error",
          "ename": "TypeError",
          "evalue": "ignored",
          "traceback": [
            "\u001b[0;31m---------------------------------------------------------------------------\u001b[0m",
            "\u001b[0;31mTypeError\u001b[0m                                 Traceback (most recent call last)",
            "\u001b[0;32m<ipython-input-7-9faff7fefc71>\u001b[0m in \u001b[0;36m<cell line: 83>\u001b[0;34m()\u001b[0m\n\u001b[1;32m     82\u001b[0m \u001b[0;34m\u001b[0m\u001b[0m\n\u001b[1;32m     83\u001b[0m \u001b[0;32mif\u001b[0m \u001b[0m__name__\u001b[0m \u001b[0;34m==\u001b[0m \u001b[0;34m\"__main__\"\u001b[0m\u001b[0;34m:\u001b[0m\u001b[0;34m\u001b[0m\u001b[0;34m\u001b[0m\u001b[0m\n\u001b[0;32m---> 84\u001b[0;31m     \u001b[0mmain\u001b[0m\u001b[0;34m(\u001b[0m\u001b[0;34m)\u001b[0m\u001b[0;34m\u001b[0m\u001b[0;34m\u001b[0m\u001b[0m\n\u001b[0m\u001b[1;32m     85\u001b[0m \u001b[0;34m\u001b[0m\u001b[0m\n\u001b[1;32m     86\u001b[0m \u001b[0;34m\u001b[0m\u001b[0m\n",
            "\u001b[0;32m<ipython-input-7-9faff7fefc71>\u001b[0m in \u001b[0;36mmain\u001b[0;34m()\u001b[0m\n\u001b[1;32m     48\u001b[0m   \u001b[0mnombre_jugador\u001b[0m \u001b[0;34m=\u001b[0m \u001b[0minput\u001b[0m\u001b[0;34m(\u001b[0m\u001b[0;34m\"Ingrese su nombre: \"\u001b[0m\u001b[0;34m)\u001b[0m\u001b[0;34m\u001b[0m\u001b[0;34m\u001b[0m\u001b[0m\n\u001b[1;32m     49\u001b[0m   \u001b[0mclase_jugador\u001b[0m \u001b[0;34m=\u001b[0m \u001b[0mselec_clase\u001b[0m\u001b[0;34m(\u001b[0m\u001b[0;34m)\u001b[0m\u001b[0;34m\u001b[0m\u001b[0;34m\u001b[0m\u001b[0m\n\u001b[0;32m---> 50\u001b[0;31m   \u001b[0mjugador\u001b[0m \u001b[0;34m=\u001b[0m \u001b[0mclase_jugador\u001b[0m\u001b[0;34m(\u001b[0m\u001b[0mnombre_jugador\u001b[0m\u001b[0;34m)\u001b[0m\u001b[0;34m\u001b[0m\u001b[0;34m\u001b[0m\u001b[0m\n\u001b[0m\u001b[1;32m     51\u001b[0m \u001b[0;34m\u001b[0m\u001b[0m\n\u001b[1;32m     52\u001b[0m   \u001b[0;31m# Crear un enemigo aleatorio\u001b[0m\u001b[0;34m\u001b[0m\u001b[0;34m\u001b[0m\u001b[0m\n",
            "\u001b[0;31mTypeError\u001b[0m: Mago.__init__() missing 3 required positional arguments: 'habilidad_1', 'habilidad_2', and 'fuerza'"
          ]
        }
      ]
    },
    {
      "cell_type": "code",
      "source": [],
      "metadata": {
        "id": "bBgwLFYy3MzN"
      },
      "execution_count": null,
      "outputs": []
    }
  ]
}