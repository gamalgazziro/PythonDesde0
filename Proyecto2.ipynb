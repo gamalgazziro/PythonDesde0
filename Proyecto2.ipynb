{
  "nbformat": 4,
  "nbformat_minor": 0,
  "metadata": {
    "colab": {
      "provenance": [],
      "authorship_tag": "ABX9TyMTkiy65BqJ8NQ7jFDCZGu2",
      "include_colab_link": true
    },
    "kernelspec": {
      "name": "python3",
      "display_name": "Python 3"
    },
    "language_info": {
      "name": "python"
    }
  },
  "cells": [
    {
      "cell_type": "markdown",
      "metadata": {
        "id": "view-in-github",
        "colab_type": "text"
      },
      "source": [
        "<a href=\"https://colab.research.google.com/github/gamalgazziro/PythonDesde0/blob/main/Proyecto2.ipynb\" target=\"_parent\"><img src=\"https://colab.research.google.com/assets/colab-badge.svg\" alt=\"Open In Colab\"/></a>"
      ]
    },
    {
      "cell_type": "markdown",
      "source": [
        "Desde variables y tipos de datos hasta Programación Orientada a Objetos, hemos aprendido a trabajar y entender Python, como actividad final, haremos un juego (por consola) del estilo RPG, donde tienen que utilizar todo lo aprendido.\n",
        "\n",
        "El juego debe tener las siguientes características:\n",
        "\n",
        "1. **Clases de Personajes:**\n",
        "    - Guerrero\n",
        "    - Mago\n",
        "    - Arquero\n",
        "    - Asesino\n",
        "    \n",
        "    Estas clases deben heredar de una clase padre llamada **Personaje**\n",
        "2. **Atributos de Personaje:**\n",
        "    - Nombre\n",
        "    - Vida\n",
        "    - Ataque\n",
        "    - Defensa\n",
        "    - Inteligencia\n",
        "    - Agilidad\n",
        "    - Fuerza\n",
        "    \n",
        "    Pueden incluir nuevos atributos de ser necesario.\n",
        "    \n",
        "3. **Métodos de Ataque:**\n",
        "    - El juego debe contener al menos 2 armas exclusivas para cada clase.\n",
        "    - Implementa un método de ataque para cada clase que calcule el daño infligido al enemigo, teniendo en cuenta la defensa del enemigo, y los atributos propios del personaje, es decir:\n",
        "        - Guerrero (influye su fuerza y su ataque base + ataque del arma)\n",
        "        - Mago (influye su inteligencia y su ataque base + ataque del arma)\n",
        "        - Arquero (influye su agilidad y su ataque base + ataque del arma)\n",
        "        - Asesino (influye su agilidad e inteligencia, y su ataque base + ataque del arma)\n",
        "    - Los ataques deberán ser controlados mediante un sistema de turnos, en el cual el personaje con mayor agilidad será el primero en atacar.\n",
        "    - Cualquier mecánica adicional es bienvenida.\n",
        "4. **Enemigos:**\n",
        "    - Crea cuatro tipos de enemigos correspondientes a las clases de personajes, pero con un nombre diferente. Uno de los enemigos debe tener la capacidad de volar (pueden utilizar herencia múltiple para esto), lo cual le da la ventaja de esquivar algunos ataques.\n",
        "5. **Mecánica de Juego:**\n",
        "    - El jugador debe seleccionar su clase y empieza el juego, debe iniciar con estadísticas base.\n",
        "    - Cada partida tendrá una duración establecida por ustedes, deben producirse al menos 4 encuentros"
      ],
      "metadata": {
        "id": "gE33BlR1RRmc"
      }
    },
    {
      "cell_type": "code",
      "execution_count": 1,
      "metadata": {
        "id": "o7wav-O1REZl"
      },
      "outputs": [],
      "source": [
        "import random #IMPORTANTE!!!"
      ]
    },
    {
      "cell_type": "markdown",
      "source": [
        "Creamos una clase base Personaje"
      ],
      "metadata": {
        "id": "UPH7ELIoWIZI"
      }
    },
    {
      "cell_type": "code",
      "source": [
        "#DEFINIMOS LA CLASE PADRE PERSONAJE\n",
        "class Personaje:\n",
        "  def __init__ (self,nombre,vida,ataque,defensa,inteligencia,agilidad,fuerza):\n",
        "    self.nombre= nombre\n",
        "    self.vida= vida\n",
        "    self.ataque= ataque\n",
        "    self.defensa= defensa\n",
        "    self.inteligencia= inteligencia\n",
        "    self.agilidad= agilidad\n",
        "    self.fuerza= fuerza\n",
        "\n",
        "#CREAMOS CUATRO FUNCIONES PARA ATACAR (ATAQUE, INTELIGENCIA, AGILIDAD Y FUERZA)\n",
        "\n",
        "  def atacar(self,objetivo):\n",
        "    dagme= max(0,self.ataque - objetivo.defensa)\n",
        "    self.vida -= dagme\n",
        "    return dagme\n",
        "\n",
        "  def usar_inteligencia(self, objetivo):\n",
        "    dagme = max(0,self.inteligencia - objetivo.defensa)\n",
        "    self.vida -= dagme\n",
        "    return dagme\n",
        "\n",
        "  def usar_agilidad(self, objetivo):\n",
        "    dagme = max(0,self.agilidad - objetivo.defensa)\n",
        "    self.vida -= dagme\n",
        "    return dagme\n",
        "\n",
        "  def usar_fuerza(self, objetivo):\n",
        "    dagme = max(0,self.fuerza - objetivo.defensa)\n",
        "    self.vida -= dagme\n",
        "    return dagme"
      ],
      "metadata": {
        "id": "C-RR_3zNSu5G"
      },
      "execution_count": 2,
      "outputs": []
    },
    {
      "cell_type": "markdown",
      "source": [
        "Creamos los personajes que heredan de la clase Persona"
      ],
      "metadata": {
        "id": "_VUZW7tyWfHo"
      }
    },
    {
      "cell_type": "code",
      "source": [
        "#CREAMOS LOS PERSONAJES Y LES ASIGNAMOS VALORES A CADA UNO EN SUS RESPECTIVAS CARACTERISTICAS\n",
        "\n",
        "class Guerrero(Personaje):\n",
        "  def __init__(self, nombre):\n",
        "    super().__init__(nombre, vida=100, ataque=32, defensa=20, inteligencia=12, agilidad=14, fuerza=30)\n",
        "\n",
        "class Mago(Personaje):\n",
        "  def __init__(self, nombre):\n",
        "    super().__init__(nombre, vida=70, ataque=40, defensa=10, inteligencia=30, agilidad=15, fuerza=10)\n",
        "\n",
        "class Arquero(Personaje):\n",
        "  def __init__(self, nombre):\n",
        "    super().__init__(nombre, vida=90, ataque=30, defensa=12, inteligencia=15, agilidad=24, fuerza=23)\n",
        "\n",
        "class Asesino(Personaje):\n",
        "  def __init__(self, nombre):\n",
        "    super().__init__(nombre, vida=75, ataque=25, defensa=15, inteligencia=18, agilidad=40, fuerza=18)\n",
        "\n",
        "class Sanador(Personaje):\n",
        "  def __init__(self, nombre):\n",
        "    super().__init__(nombre, vida=95, ataque=20, defensa=18, inteligencia=10, agilidad=12, fuerza=25)\n",
        "\n",
        "  def usar_inteligencia(self, objetivo):\n",
        "    curar = max(0,self.inteligencia)\n",
        "    self.vida += curar\n",
        "    return curar\n",
        "\n",
        "class Druida(Personaje):\n",
        "  def __init__(self, nombre):\n",
        "    super().__init__(nombre, vida=90, ataque=25, defensa=16, inteligencia=32, agilidad=20, fuerza=17)\n",
        "\n",
        "def selec_clase():\n",
        "    print(\"Selecciona tu clase:\")\n",
        "    print(\"1. Guerrero\")\n",
        "    print(\"2. Mago\")\n",
        "    print(\"3. Arquero\")\n",
        "    print(\"4. Asesino\")\n",
        "    print(\"5. Sanador\")\n",
        "    print(\"6. Druida\")\n",
        "\n",
        "    opcion = input(\"Ingrese el número de la clase: \")\n",
        "    clases = {\n",
        "        \"1\": Guerrero,\n",
        "        \"2\": Mago,\n",
        "        \"3\": Arquero,\n",
        "        \"4\": Asesino,\n",
        "        \"5\": Sanador,\n",
        "        \"6\": Druida\n",
        "    }\n",
        "    return clases[opcion]\n",
        "\n",
        "def main():\n",
        "  print(\"¡Bienvenido al juego RPG!\")\n",
        "  # Crear al jugador\n",
        "  nombre_jugador = input(\"Ingrese su nombre: \")\n",
        "  clase_jugador = selec_clase()\n",
        "  jugador = clase_jugador(nombre_jugador)\n",
        "\n",
        "  # Crear un enemigo aleatorio\n",
        "  clases_enemigo = [Guerrero, Mago, Arquero, Asesino, Sanador, Druida]\n",
        "  clase_enemigo = random.choice(clases_enemigo)\n",
        "  enemigo = clase_enemigo(\"Enemigo\")\n",
        "\n",
        "  print(f\"\\n{jugador.nombre}, eres un {jugador.__class__.__name__}, y te enfrentas a un {enemigo.__class__.__name__} llamado {enemigo.nombre}.\\n\")\n",
        "\n",
        "  while jugador.vida > 0 and enemigo.vida > 0:\n",
        "    print(f\"{jugador.nombre}: Salud = {jugador.vida}, Ataque = {jugador.ataque}, Defensa = {jugador.defensa}\")\n",
        "    print(f\"{enemigo.nombre}: Salud = {enemigo.vida}, Ataque = {enemigo.ataque}, Defensa = {enemigo.defensa}\")\n",
        "\n",
        "    accion = input(\"Que quieres hacer? (atacar/escapar/usar inteligencia/usar agilidad/usar fuerza): \").lower()\n",
        "\n",
        "    if accion == \"atacar\":\n",
        "      dagme_jugador = jugador.atacar(enemigo)\n",
        "      dagme_enemigo = enemigo.atacar(jugador)\n",
        "      print(f\"Atacaste a {enemigo.nombre} y le quitaste {dagme_jugador} de salud.\")\n",
        "      print(f\"{enemigo.nombre} contraatacó y te quitó {dagme_enemigo} de salud.\")\n",
        "\n",
        "    elif accion == \"usar inteligencia\":\n",
        "      dagme_jugador = jugador.usar_inteligencia(enemigo)\n",
        "      dagme_enemigo = enemigo.atacar(jugador)\n",
        "      print(f\"Atacaste a {enemigo.nombre} y le quitaste {dagme_jugador} de salud.\")\n",
        "      print(f\"{enemigo.nombre} contraatacó y te quitó {dagme_enemigo} de salud.\")\n",
        "\n",
        "    elif accion == \"usar agilidad\":\n",
        "      dagme_jugador = jugador.usar_agilidad(enemigo)\n",
        "      dagme_enemigo = enemigo.atacar(jugador)\n",
        "      print(f\"Atacaste a {enemigo.nombre} y le quitaste {dagme_jugador} de salud.\")\n",
        "      print(f\"{enemigo.nombre} contraatacó y te quitó {dagme_enemigo} de salud.\")\n",
        "\n",
        "    elif accion == \"usar fuerza\":\n",
        "      dagme_jugador = jugador.usar_fuerza(enemigo)\n",
        "      dagme_enemigo = enemigo.atacar(jugador)\n",
        "      print(f\"Atacaste a {enemigo.nombre} y le quitaste {dagme_jugador} de salud.\")\n",
        "      print(f\"{enemigo.nombre} contraatacó y te quitó {dagme_enemigo} de salud.\")\n",
        "\n",
        "    elif accion == \"escapar\":\n",
        "      print(\"Escapaste del combate. ¡Hasta la próxima!\")\n",
        "      break\n",
        "\n",
        "    else:\n",
        "      print(\"Accion no valida, Elige entre atacar, escapar, usar inteligencia, usar agilidad o usar fuerza\")\n",
        "\n",
        "    if jugador.vida <= 0:\n",
        "        print(\"¡Has sido derrotado! Game Over.\")\n",
        "    elif enemigo.vida <= 0:\n",
        "        print(f\"¡Has derrotado a {enemigo.nombre}! ¡Ganaste el juego!\")\n",
        "\n",
        "if __name__ == \"__main__\":\n",
        "    main()\n",
        "\n",
        "#SOLO QUEDA JUGAR!!\n"
      ],
      "metadata": {
        "id": "_HzcVUKgWexj",
        "colab": {
          "base_uri": "https://localhost:8080/"
        },
        "outputId": "e4bdc550-439e-4a5d-a451-b51780b80713"
      },
      "execution_count": 3,
      "outputs": [
        {
          "output_type": "stream",
          "name": "stdout",
          "text": [
            "¡Bienvenido al juego RPG!\n",
            "Ingrese su nombre: hilberto\n",
            "Selecciona tu clase:\n",
            "1. Guerrero\n",
            "2. Mago\n",
            "3. Arquero\n",
            "4. Asesino\n",
            "5. Sanador\n",
            "6. Druida\n",
            "Ingrese el número de la clase: 2\n",
            "\n",
            "hilberto, eres un Mago, y te enfrentas a un Druida llamado Enemigo.\n",
            "\n",
            "hilberto: Salud = 70, Ataque = 40, Defensa = 10\n",
            "Enemigo: Salud = 90, Ataque = 25, Defensa = 16\n",
            "Que quieres hacer? (atacar/escapar/usar inteligencia/usar agilidad/usar fuerza): usar inteligencia\n",
            "Atacaste a Enemigo y le quitaste 14 de salud.\n",
            "Enemigo contraatacó y te quitó 15 de salud.\n",
            "hilberto: Salud = 56, Ataque = 40, Defensa = 10\n",
            "Enemigo: Salud = 75, Ataque = 25, Defensa = 16\n",
            "Que quieres hacer? (atacar/escapar/usar inteligencia/usar agilidad/usar fuerza): atacar\n",
            "Atacaste a Enemigo y le quitaste 24 de salud.\n",
            "Enemigo contraatacó y te quitó 15 de salud.\n",
            "hilberto: Salud = 32, Ataque = 40, Defensa = 10\n",
            "Enemigo: Salud = 60, Ataque = 25, Defensa = 16\n",
            "Que quieres hacer? (atacar/escapar/usar inteligencia/usar agilidad/usar fuerza): atacar\n",
            "Atacaste a Enemigo y le quitaste 24 de salud.\n",
            "Enemigo contraatacó y te quitó 15 de salud.\n",
            "hilberto: Salud = 8, Ataque = 40, Defensa = 10\n",
            "Enemigo: Salud = 45, Ataque = 25, Defensa = 16\n",
            "Que quieres hacer? (atacar/escapar/usar inteligencia/usar agilidad/usar fuerza): atacar\n",
            "Atacaste a Enemigo y le quitaste 24 de salud.\n",
            "Enemigo contraatacó y te quitó 15 de salud.\n",
            "¡Has sido derrotado! Game Over.\n"
          ]
        }
      ]
    },
    {
      "cell_type": "code",
      "source": [],
      "metadata": {
        "id": "bBgwLFYy3MzN"
      },
      "execution_count": null,
      "outputs": []
    }
  ]
}